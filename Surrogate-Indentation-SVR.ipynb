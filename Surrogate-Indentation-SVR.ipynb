{
 "cells": [
  {
   "cell_type": "markdown",
   "metadata": {},
   "source": [
    "# Supervised learning surrogate model for indentation\n",
    "\n",
    "A surrogate model based on support vector regression (SVR) is trained for two important results of cyclic indentations: (i) the hysteresis width in the force-displacement curve, and (ii) the creep length during the holding stage of the indentation. The training data is obtained from finite element (FE) simulations of the indentation process with a given indeter shape and a fixed loading scenario, where the applied force-time curve is given. The material parameters, representing the feature vector for the supervised learning, are varied in a wide range to obtain data representing the relation between material parameters and indentation results. The importance of optimizing the SVR hyperparameters and of selecting material parameters with a significant correlation to the indentation result is demonstrated.\n",
    "\n",
    "Authors: Alexander Hartmaier, Ziba Hamzeh, Pardis Nooshmehr</br>\n",
    "Institution: ICAMS, Ruhr-Universität Bochum, Germany</br>\n",
    "Date: July 2021\n",
    "\n",
    "This work is licensed under a Creative \n",
    "Commons Attribution-NonCommercial-ShareAlike 4.0 International License\n",
    "<a rel=\"license\" href=\"http://creativecommons.org/licenses/by-nc-sa/4.0/\">(CC-BY-NC-SA)</a>\n",
    " <a rel=\"license\" href=\"http://creativecommons.org/licenses/by-nc-sa/4.0/\">\n",
    "<img alt=\"Creative Commons License\" style=\"border-width:0;max-heigt:9px;height:100%;\" src=\"https://i.creativecommons.org/l/by-nc-sa/4.0/88x31.png\" /></a>\n",
    "\n",
    "Supervised learning algorithms from the scikit-learn.platform are applied, see https://scikit-learn.org/stable/"
   ]
  },
  {
   "cell_type": "code",
   "execution_count": 1,
   "metadata": {},
   "outputs": [],
   "source": [
    "import matplotlib.pyplot as plt\n",
    "import numpy as np\n",
    "import pandas as pd\n",
    "from sklearn.svm import SVR\n",
    "from sklearn.model_selection import train_test_split\n",
    "from sklearn.metrics import mean_squared_error, mean_absolute_error, r2_score\n",
    "from sklearn.model_selection import cross_val_score, KFold, RandomizedSearchCV\n",
    "from sklearn.preprocessing import MinMaxScaler\n",
    "\n",
    "'''Functions for statistical evaluation of training success'''\n",
    "def my_scorer_cv(scorer, X_train, y_train, exponentiate=False):\n",
    "    scorer.fit(X_train, y_train)\n",
    "    kfold=KFold(n_splits=5, shuffle=True, random_state=rndstate)\n",
    "    scores = cross_val_score(scorer,X_train,y_train,cv=kfold)*100.0\n",
    "    print('Cross-validation scores [%]: {}\\n'.format(scores))\n",
    "    print('Average cross-validation score: {} %\\n\\n'.format(scores.mean()))\n",
    "\n",
    "def my_scorer_test(scorer, X_train,X_test, y_train, y_test, exponentiate=False):\n",
    "    scorer.fit(X_train, y_train)\n",
    "    train_score = 100*scorer.score(X_train, y_train)\n",
    "    test_score = 100*scorer.score(X_test, y_test)\n",
    "    print(\"Training set score: {} %\".format(train_score))\n",
    "    print(\"Test set score: {} %\".format(test_score))\n",
    "\n",
    "def my_scorer(regressor):\n",
    "    \"\"\"\n",
    "    Score a given regressor on both train and test datasets,\n",
    "    calculate metrics (RMSE, MAE, R2)\n",
    "    and plot true-vs-predicted values.\n",
    "    \n",
    "    Parameters:\n",
    "    -----------\n",
    "    regressor - a sklearn-compatible regressor that has .predict method\n",
    "    \n",
    "    \"\"\"\n",
    "    pred_train = regressor.predict(X_train)\n",
    "    pred_test = regressor.predict(X_test)\n",
    "    print(\"Train data:\")\n",
    "    print(\"RMSE = \",np.sqrt(mean_squared_error(y_train,pred_train)))\n",
    "    print(\"MAE = \",mean_absolute_error(y_train,pred_train))\n",
    "    print(\"R2 = \",r2_score(y_train,pred_train))\n",
    "    \n",
    "    print(\"Test data:\")\n",
    "    print(\"RMSE = \",np.sqrt(mean_squared_error(y_test,pred_test)))\n",
    "    print(\"MAE = \",mean_absolute_error(y_test,pred_test))\n",
    "    print(\"R2 = \",r2_score(y_test,pred_test))"
   ]
  },
  {
   "cell_type": "markdown",
   "metadata": {},
   "source": [
    "# Read data from FE simulations"
   ]
  },
  {
   "cell_type": "code",
   "execution_count": 2,
   "metadata": {},
   "outputs": [
    {
     "name": "stdout",
     "output_type": "stream",
     "text": [
      "Database with scaled values\n"
     ]
    },
    {
     "data": {
      "text/html": [
       "<div>\n",
       "<style scoped>\n",
       "    .dataframe tbody tr th:only-of-type {\n",
       "        vertical-align: middle;\n",
       "    }\n",
       "\n",
       "    .dataframe tbody tr th {\n",
       "        vertical-align: top;\n",
       "    }\n",
       "\n",
       "    .dataframe thead th {\n",
       "        text-align: right;\n",
       "    }\n",
       "</style>\n",
       "<table border=\"1\" class=\"dataframe\">\n",
       "  <thead>\n",
       "    <tr style=\"text-align: right;\">\n",
       "      <th></th>\n",
       "      <th>n</th>\n",
       "      <th>m</th>\n",
       "      <th>A</th>\n",
       "      <th>A0</th>\n",
       "      <th>C1</th>\n",
       "      <th>g1</th>\n",
       "      <th>C2</th>\n",
       "      <th>Q</th>\n",
       "      <th>b</th>\n",
       "      <th>pile_up</th>\n",
       "      <th>width</th>\n",
       "      <th>depth</th>\n",
       "      <th>displacement</th>\n",
       "      <th>x_pileup</th>\n",
       "      <th>x_intersect</th>\n",
       "      <th>hys_width</th>\n",
       "      <th>fd-slope</th>\n",
       "      <th>x_fmax</th>\n",
       "      <th>hist_lowest</th>\n",
       "      <th>clength</th>\n",
       "    </tr>\n",
       "  </thead>\n",
       "  <tbody>\n",
       "    <tr>\n",
       "      <th>0</th>\n",
       "      <td>-0.819978</td>\n",
       "      <td>-0.041610</td>\n",
       "      <td>-0.767446</td>\n",
       "      <td>-0.862661</td>\n",
       "      <td>0.526179</td>\n",
       "      <td>-0.904</td>\n",
       "      <td>0.990648</td>\n",
       "      <td>0.992</td>\n",
       "      <td>-0.333333</td>\n",
       "      <td>-0.911488</td>\n",
       "      <td>-0.911488</td>\n",
       "      <td>-0.914583</td>\n",
       "      <td>-0.914635</td>\n",
       "      <td>-0.192733</td>\n",
       "      <td>-0.914568</td>\n",
       "      <td>-0.687026</td>\n",
       "      <td>0.843169</td>\n",
       "      <td>-0.907958</td>\n",
       "      <td>-0.922999</td>\n",
       "      <td>-0.890361</td>\n",
       "    </tr>\n",
       "    <tr>\n",
       "      <th>1</th>\n",
       "      <td>0.085130</td>\n",
       "      <td>0.109816</td>\n",
       "      <td>-0.999822</td>\n",
       "      <td>-0.783594</td>\n",
       "      <td>0.906198</td>\n",
       "      <td>-0.128</td>\n",
       "      <td>0.206858</td>\n",
       "      <td>0.320</td>\n",
       "      <td>-1.000000</td>\n",
       "      <td>-0.757874</td>\n",
       "      <td>-0.757874</td>\n",
       "      <td>-0.747295</td>\n",
       "      <td>-0.747947</td>\n",
       "      <td>-0.434634</td>\n",
       "      <td>-0.747475</td>\n",
       "      <td>-0.828619</td>\n",
       "      <td>0.591013</td>\n",
       "      <td>-0.745594</td>\n",
       "      <td>-0.712078</td>\n",
       "      <td>-0.809361</td>\n",
       "    </tr>\n",
       "    <tr>\n",
       "      <th>2</th>\n",
       "      <td>0.157263</td>\n",
       "      <td>-0.174697</td>\n",
       "      <td>-0.999657</td>\n",
       "      <td>-0.447853</td>\n",
       "      <td>-0.568668</td>\n",
       "      <td>-0.328</td>\n",
       "      <td>0.963483</td>\n",
       "      <td>0.088</td>\n",
       "      <td>-0.777778</td>\n",
       "      <td>-0.710840</td>\n",
       "      <td>-0.710840</td>\n",
       "      <td>-0.385545</td>\n",
       "      <td>-0.385926</td>\n",
       "      <td>0.389246</td>\n",
       "      <td>-0.385521</td>\n",
       "      <td>-0.083634</td>\n",
       "      <td>0.108700</td>\n",
       "      <td>-0.373831</td>\n",
       "      <td>-0.497014</td>\n",
       "      <td>-0.550389</td>\n",
       "    </tr>\n",
       "    <tr>\n",
       "      <th>3</th>\n",
       "      <td>0.349760</td>\n",
       "      <td>0.213105</td>\n",
       "      <td>-0.999975</td>\n",
       "      <td>-0.693874</td>\n",
       "      <td>-0.338070</td>\n",
       "      <td>-0.776</td>\n",
       "      <td>0.340013</td>\n",
       "      <td>0.152</td>\n",
       "      <td>0.777778</td>\n",
       "      <td>-0.570167</td>\n",
       "      <td>-0.570167</td>\n",
       "      <td>-0.336710</td>\n",
       "      <td>-0.337466</td>\n",
       "      <td>-0.022874</td>\n",
       "      <td>-0.356519</td>\n",
       "      <td>-0.369544</td>\n",
       "      <td>0.052683</td>\n",
       "      <td>-0.324321</td>\n",
       "      <td>-0.386183</td>\n",
       "      <td>-0.733232</td>\n",
       "    </tr>\n",
       "    <tr>\n",
       "      <th>4</th>\n",
       "      <td>0.057915</td>\n",
       "      <td>-0.829897</td>\n",
       "      <td>-0.999476</td>\n",
       "      <td>-0.822710</td>\n",
       "      <td>0.690601</td>\n",
       "      <td>0.080</td>\n",
       "      <td>0.617902</td>\n",
       "      <td>-0.184</td>\n",
       "      <td>-1.000000</td>\n",
       "      <td>-0.781930</td>\n",
       "      <td>-0.781930</td>\n",
       "      <td>-0.712087</td>\n",
       "      <td>-0.712695</td>\n",
       "      <td>-0.133359</td>\n",
       "      <td>-0.712173</td>\n",
       "      <td>-0.644390</td>\n",
       "      <td>0.518530</td>\n",
       "      <td>-0.695259</td>\n",
       "      <td>-0.701610</td>\n",
       "      <td>-0.833049</td>\n",
       "    </tr>\n",
       "  </tbody>\n",
       "</table>\n",
       "</div>"
      ],
      "text/plain": [
       "          n         m         A        A0        C1     g1        C2      Q  \\\n",
       "0 -0.819978 -0.041610 -0.767446 -0.862661  0.526179 -0.904  0.990648  0.992   \n",
       "1  0.085130  0.109816 -0.999822 -0.783594  0.906198 -0.128  0.206858  0.320   \n",
       "2  0.157263 -0.174697 -0.999657 -0.447853 -0.568668 -0.328  0.963483  0.088   \n",
       "3  0.349760  0.213105 -0.999975 -0.693874 -0.338070 -0.776  0.340013  0.152   \n",
       "4  0.057915 -0.829897 -0.999476 -0.822710  0.690601  0.080  0.617902 -0.184   \n",
       "\n",
       "          b   pile_up     width     depth  displacement  x_pileup  \\\n",
       "0 -0.333333 -0.911488 -0.911488 -0.914583     -0.914635 -0.192733   \n",
       "1 -1.000000 -0.757874 -0.757874 -0.747295     -0.747947 -0.434634   \n",
       "2 -0.777778 -0.710840 -0.710840 -0.385545     -0.385926  0.389246   \n",
       "3  0.777778 -0.570167 -0.570167 -0.336710     -0.337466 -0.022874   \n",
       "4 -1.000000 -0.781930 -0.781930 -0.712087     -0.712695 -0.133359   \n",
       "\n",
       "   x_intersect  hys_width  fd-slope    x_fmax  hist_lowest   clength  \n",
       "0    -0.914568  -0.687026  0.843169 -0.907958    -0.922999 -0.890361  \n",
       "1    -0.747475  -0.828619  0.591013 -0.745594    -0.712078 -0.809361  \n",
       "2    -0.385521  -0.083634  0.108700 -0.373831    -0.497014 -0.550389  \n",
       "3    -0.356519  -0.369544  0.052683 -0.324321    -0.386183 -0.733232  \n",
       "4    -0.712173  -0.644390  0.518530 -0.695259    -0.701610 -0.833049  "
      ]
     },
     "execution_count": 2,
     "metadata": {},
     "output_type": "execute_result"
    }
   ],
   "source": [
    "#loading data with pandas\n",
    "AllData = pd.read_csv('data/identation_database.csv')\n",
    "AllData['width']    *= 1000\n",
    "AllData['pile_up']  *= 1000\n",
    "AllData['x_pileup'] *= 1000\n",
    "AllData['clength']  *= 1000\n",
    "AllData.dropna(inplace=True)\n",
    "\n",
    "scaler = MinMaxScaler(feature_range=(-1,1))\n",
    "# fit scaler on data\n",
    "scaler.fit(AllData)\n",
    "# apply transform\n",
    "AllData= scaler.transform(AllData)\n",
    "# create DataFrame\n",
    "AllData=pd.DataFrame(AllData,columns=['0', 'n', 'm', 'A','A0', 'C1', 'g1', 'C2', 'Q', 'b',\n",
    "       'pile_up', 'width', 'depth', 'displacement', 'x_pileup', 'x_intersect',\n",
    "       'hys_width', 'fd-slope', 'x_fmax', 'hist_lowest', 'clength'])\n",
    "AllData = AllData.drop(columns=['0'])\n",
    "print('Database with scaled values')\n",
    "AllData.head()"
   ]
  },
  {
   "cell_type": "markdown",
   "metadata": {},
   "source": [
    "# Suport Vector Regression (SVR)"
   ]
  },
  {
   "cell_type": "code",
   "execution_count": 3,
   "metadata": {},
   "outputs": [
    {
     "name": "stdout",
     "output_type": "stream",
     "text": [
      "Feature vector for training (material paramaters)\n"
     ]
    },
    {
     "data": {
      "text/html": [
       "<div>\n",
       "<style scoped>\n",
       "    .dataframe tbody tr th:only-of-type {\n",
       "        vertical-align: middle;\n",
       "    }\n",
       "\n",
       "    .dataframe tbody tr th {\n",
       "        vertical-align: top;\n",
       "    }\n",
       "\n",
       "    .dataframe thead th {\n",
       "        text-align: right;\n",
       "    }\n",
       "</style>\n",
       "<table border=\"1\" class=\"dataframe\">\n",
       "  <thead>\n",
       "    <tr style=\"text-align: right;\">\n",
       "      <th></th>\n",
       "      <th>n</th>\n",
       "      <th>m</th>\n",
       "      <th>A0</th>\n",
       "      <th>C1</th>\n",
       "      <th>g1</th>\n",
       "      <th>C2</th>\n",
       "      <th>Q</th>\n",
       "      <th>b</th>\n",
       "    </tr>\n",
       "  </thead>\n",
       "  <tbody>\n",
       "    <tr>\n",
       "      <th>0</th>\n",
       "      <td>-0.819978</td>\n",
       "      <td>-0.041610</td>\n",
       "      <td>-0.862661</td>\n",
       "      <td>0.526179</td>\n",
       "      <td>-0.904</td>\n",
       "      <td>0.990648</td>\n",
       "      <td>0.992</td>\n",
       "      <td>-0.333333</td>\n",
       "    </tr>\n",
       "    <tr>\n",
       "      <th>1</th>\n",
       "      <td>0.085130</td>\n",
       "      <td>0.109816</td>\n",
       "      <td>-0.783594</td>\n",
       "      <td>0.906198</td>\n",
       "      <td>-0.128</td>\n",
       "      <td>0.206858</td>\n",
       "      <td>0.320</td>\n",
       "      <td>-1.000000</td>\n",
       "    </tr>\n",
       "    <tr>\n",
       "      <th>2</th>\n",
       "      <td>0.157263</td>\n",
       "      <td>-0.174697</td>\n",
       "      <td>-0.447853</td>\n",
       "      <td>-0.568668</td>\n",
       "      <td>-0.328</td>\n",
       "      <td>0.963483</td>\n",
       "      <td>0.088</td>\n",
       "      <td>-0.777778</td>\n",
       "    </tr>\n",
       "    <tr>\n",
       "      <th>3</th>\n",
       "      <td>0.349760</td>\n",
       "      <td>0.213105</td>\n",
       "      <td>-0.693874</td>\n",
       "      <td>-0.338070</td>\n",
       "      <td>-0.776</td>\n",
       "      <td>0.340013</td>\n",
       "      <td>0.152</td>\n",
       "      <td>0.777778</td>\n",
       "    </tr>\n",
       "    <tr>\n",
       "      <th>4</th>\n",
       "      <td>0.057915</td>\n",
       "      <td>-0.829897</td>\n",
       "      <td>-0.822710</td>\n",
       "      <td>0.690601</td>\n",
       "      <td>0.080</td>\n",
       "      <td>0.617902</td>\n",
       "      <td>-0.184</td>\n",
       "      <td>-1.000000</td>\n",
       "    </tr>\n",
       "  </tbody>\n",
       "</table>\n",
       "</div>"
      ],
      "text/plain": [
       "          n         m        A0        C1     g1        C2      Q         b\n",
       "0 -0.819978 -0.041610 -0.862661  0.526179 -0.904  0.990648  0.992 -0.333333\n",
       "1  0.085130  0.109816 -0.783594  0.906198 -0.128  0.206858  0.320 -1.000000\n",
       "2  0.157263 -0.174697 -0.447853 -0.568668 -0.328  0.963483  0.088 -0.777778\n",
       "3  0.349760  0.213105 -0.693874 -0.338070 -0.776  0.340013  0.152  0.777778\n",
       "4  0.057915 -0.829897 -0.822710  0.690601  0.080  0.617902 -0.184 -1.000000"
      ]
     },
     "execution_count": 3,
     "metadata": {},
     "output_type": "execute_result"
    }
   ],
   "source": [
    "# define parameters for hyperparamater tuning\n",
    "C = [x for x in np.linspace(start = 0.001, stop = 100, num = 100)]\n",
    "kernel = ['linear', 'rbf', 'poly', 'sigmoid']\n",
    "degree = [int(x) for x in np.linspace(start = 1, stop =20, num = 10)]\n",
    "gamma = ['scale', 'auto']\n",
    "coef0 = [x for x in np.linspace(start = 0.001, stop = 1, num = 100)]\n",
    "epsilon = [x for x in np.linspace(start = 0.001, stop = 1, num = 100)]\n",
    "random_grid = {'C': C,\n",
    "               'kernel': kernel,\n",
    "               'degree': degree,\n",
    "               'gamma': gamma,\n",
    "               'coef0': coef0,\n",
    "               'epsilon':epsilon,\n",
    "                #'shrinking':shrinking,\n",
    "              }\n",
    "\n",
    "#define material parameters as input\n",
    "InNames = ['n','m','A0','C1', 'g1', 'C2','Q','b']\n",
    "input_data = AllData[InNames]\n",
    "print('Feature vector for training (material paramaters)')\n",
    "input_data.head()"
   ]
  },
  {
   "cell_type": "markdown",
   "metadata": {},
   "source": [
    "# Train SVR for hysteresis width \n",
    "\n",
    "## 1. Training with arbitrary hyperparameters"
   ]
  },
  {
   "cell_type": "code",
   "execution_count": 34,
   "metadata": {},
   "outputs": [
    {
     "name": "stdout",
     "output_type": "stream",
     "text": [
      "--Cross-validation--\n",
      "\n",
      "Cross-validation scores [%]: [88.9486954  90.2728439  89.86585768]\n",
      "\n",
      "Average cross-validation score: 89.6957989888947 %\n",
      "\n",
      "\n",
      "training model\n",
      "\n",
      "Training set score: 89.89812287976265 %\n",
      "Test set score: 89.28040658562998 %\n"
     ]
    },
    {
     "data": {
      "image/png": "[encoded data removed]",
      "text/plain": [
       "<Figure size 432x288 with 1 Axes>"
      ]
     },
     "metadata": {
      "needs_background": "light"
     },
     "output_type": "display_data"
    },
    {
     "name": "stdout",
     "output_type": "stream",
     "text": [
      "Cross-validation scores [%]: [87.85512802 90.15104203 90.35332237 90.15934318 89.47627935]\n",
      "\n",
      "Average cross-validation score: 89.59902299232407 %\n",
      "\n",
      "\n",
      "Training set score: 89.89812287976265 %\n",
      "Test set score: 89.28040658562998 %\n",
      "Train data:\n",
      "RMSE =  0.11451876654665849\n",
      "MAE =  0.08027789650793096\n",
      "R2 =  0.8989812287976265\n",
      "Test data:\n",
      "RMSE =  0.11401942906837866\n",
      "MAE =  0.0758304801405722\n",
      "R2 =  0.8928040658562998\n"
     ]
    }
   ],
   "source": [
    "#select hysteresis width as label (training target)\n",
    "output_data = AllData['hys_width']\n",
    "\n",
    "''' Preprocessing data '''\n",
    "rndstate = 40\n",
    "#Splitting into training and test set\n",
    "X_train, X_test, y_train, y_test = train_test_split(input_data, output_data, random_state=rndstate)\n",
    "\n",
    "svr = SVR(C=10 ,coef0=0.889, degree=9, epsilon=0.001, gamma='scale',\n",
    "    kernel='linear')\n",
    "\n",
    "\"\"\" Cross-Validation \"\"\"\n",
    "print('--Cross-validation--\\n')\n",
    "kfold=KFold(n_splits=3, shuffle=True, random_state=rndstate)\n",
    "scores = cross_val_score(svr,X_train,y_train,cv=kfold)*100.0\n",
    "print('Cross-validation scores [%]: {}\\n'.format(scores))\n",
    "print('Average cross-validation score: {} %\\n\\n'.format(scores.mean()))\n",
    "\n",
    "print('training model\\n')\n",
    "#fit SVR model to training data\n",
    "svr.fit(X_train, y_train)\n",
    "#compute traning and test scores and print them to terminal\n",
    "train_score = 100*svr.score(X_train, y_train)\n",
    "test_score = 100*svr.score(X_test, y_test)\n",
    "print(\"Training set score: {} %\".format(train_score))\n",
    "print(\"Test set score: {} %\".format(test_score))\n",
    "\n",
    "#graphical output\n",
    "y_predict_test=svr.predict(X_test)\n",
    "y_predict_train=svr.predict(X_train)\n",
    "y_predict = svr.predict(input_data)\n",
    "y_max = max(y_predict_test)\n",
    "y_min = min(y_predict_test)\n",
    "plt.plot([y_min,y_max],[y_min,y_max])\n",
    "plt.scatter(y_train,y_predict_train,c='orange',label='train')\n",
    "plt.scatter(y_test,y_predict_test,c='b',label='test')\n",
    "plt.legend()\n",
    "plt.xlabel('reference hysteresis width (a.u.)')\n",
    "plt.ylabel('predicted hysteresis width (a.u.)')\n",
    "plt.show()\n",
    "\n",
    "#calculate statistical data for success of training\n",
    "my_scorer_cv(svr, X_train=X_train, y_train=y_train, exponentiate=False)   \n",
    "my_scorer_test(svr, X_train=X_train,X_test=X_test, y_train=y_train, y_test=y_test, exponentiate=False)\n",
    "my_scorer(svr)"
   ]
  },
  {
   "cell_type": "markdown",
   "metadata": {},
   "source": [
    "## 2. Hyperparameter optimization with randomized search"
   ]
  },
  {
   "cell_type": "code",
   "execution_count": 5,
   "metadata": {},
   "outputs": [
    {
     "name": "stdout",
     "output_type": "stream",
     "text": [
      "Fitting 10 folds for each of 82 candidates, totalling 820 fits\n",
      "Optimal hyperparameters for SVR:\n"
     ]
    },
    {
     "data": {
      "text/plain": [
       "{'kernel': 'rbf',\n",
       " 'gamma': 'auto',\n",
       " 'epsilon': 0.011090909090909092,\n",
       " 'degree': 1,\n",
       " 'coef0': 0.28354545454545454,\n",
       " 'C': 22.223000000000003}"
      ]
     },
     "execution_count": 5,
     "metadata": {},
     "output_type": "execute_result"
    }
   ],
   "source": [
    "# Use the random grid to search for best hyperparameters\n",
    "# First create the base model to tune\n",
    "svr = SVR()\n",
    "# Random search of parameters, using 3 fold cross validation, \n",
    "# search across 100 different combinations, and use all available cores\n",
    "svr_random = RandomizedSearchCV(estimator = svr, param_distributions = random_grid,\n",
    "                               n_iter = 82, cv = 10, verbose=2, random_state=42, n_jobs = -1)\n",
    "# Fit the random search model\n",
    "svr_random.fit(X_train, y_train)\n",
    "\n",
    "print('Optimal hyperparameters for SVR:')\n",
    "hyper = svr_random.best_params_\n",
    "hyper"
   ]
  },
  {
   "cell_type": "code",
   "execution_count": 33,
   "metadata": {},
   "outputs": [
    {
     "name": "stdout",
     "output_type": "stream",
     "text": [
      "--Cross-validation--\n",
      "\n",
      "Cross-validation scores [%]: [95.68097562 95.28839599 96.03288315]\n",
      "\n",
      "Average cross-validation score: 95.66741825360181 %\n",
      "\n",
      "\n",
      "training model\n",
      "\n",
      "Training set score: 99.06059270890086 %\n",
      "Test set score: 93.19282801655852 %\n"
     ]
    },
    {
     "data": {
      "image/png": "[encoded data removed]",
      "text/plain": [
       "<Figure size 432x288 with 1 Axes>"
      ]
     },
     "metadata": {
      "needs_background": "light"
     },
     "output_type": "display_data"
    },
    {
     "name": "stdout",
     "output_type": "stream",
     "text": [
      "Cross-validation scores [%]: [95.61046056 95.40729803 95.66368122 96.20856329 94.82861895]\n",
      "\n",
      "Average cross-validation score: 95.54372440819111 %\n",
      "\n",
      "\n",
      "Training set score: 99.06059270890086 %\n",
      "Test set score: 93.19282801655852 %\n",
      "Train data:\n",
      "RMSE =  0.031011116848291734\n",
      "MAE =  0.018248490131594016\n",
      "R2 =  0.9906059270890086\n",
      "Test data:\n",
      "RMSE =  0.0811914972230767\n",
      "MAE =  0.044912596932184315\n",
      "R2 =  0.9319282801655853\n"
     ]
    }
   ],
   "source": [
    "#repeat training with optimized hyperparameters\n",
    "svr = SVR(C=hyper['C'] ,coef0=hyper['coef0'], degree=hyper['degree'], epsilon=hyper['epsilon'],\n",
    "          gamma=hyper['gamma'], kernel=hyper['kernel'])\n",
    "\n",
    "\"\"\" Cross-Validation \"\"\"\n",
    "print('--Cross-validation--\\n')\n",
    "kfold=KFold(n_splits=3, shuffle=True, random_state=rndstate)\n",
    "scores = cross_val_score(svr,X_train,y_train,cv=kfold)*100.0\n",
    "print('Cross-validation scores [%]: {}\\n'.format(scores))\n",
    "print('Average cross-validation score: {} %\\n\\n'.format(scores.mean()))\n",
    "\n",
    "print('training model\\n')\n",
    "'fit training data'\n",
    "svr.fit(X_train, y_train)\n",
    "'compute traning and test scores and print them to terminal'\n",
    "train_score = 100*svr.score(X_train, y_train)\n",
    "test_score = 100*svr.score(X_test, y_test)\n",
    "print(\"Training set score: {} %\".format(train_score))\n",
    "print(\"Test set score: {} %\".format(test_score))\n",
    "\n",
    "#store svr for hyteresis width\n",
    "svr_hw = svr\n",
    "\n",
    "#graphical output\n",
    "y_predict_test=svr.predict(X_test)\n",
    "y_predict_train=svr.predict(X_train)\n",
    "y_predict = svr.predict(input_data)\n",
    "y_max = max(y_predict_test)\n",
    "y_min = min(y_predict_test)\n",
    "plt.plot([y_min,y_max],[y_min,y_max])\n",
    "\n",
    "plt.scatter(y_train,y_predict_train,c='orange',label='train')\n",
    "plt.scatter(y_test,y_predict_test,c='b',label='test')\n",
    "plt.legend()\n",
    "plt.xlabel('reference hysteresis width (a.u.)')\n",
    "plt.ylabel('predicted hysteresis width (a.u.)')\n",
    "plt.show()\n",
    "\n",
    "#calculate statistical data for success of training\n",
    "my_scorer_cv(svr, X_train=X_train, y_train=y_train, exponentiate=False)   \n",
    "my_scorer_test(svr, X_train=X_train,X_test=X_test, y_train=y_train, y_test=y_test, exponentiate=False)\n",
    "my_scorer(svr)"
   ]
  },
  {
   "cell_type": "markdown",
   "metadata": {},
   "source": [
    "# Train SVR for creep length \n",
    "\n",
    "## 1. Hyperparameter optimization for SVR with randomized search"
   ]
  },
  {
   "cell_type": "code",
   "execution_count": 7,
   "metadata": {},
   "outputs": [
    {
     "name": "stdout",
     "output_type": "stream",
     "text": [
      "Fitting 10 folds for each of 82 candidates, totalling 820 fits\n"
     ]
    },
    {
     "data": {
      "text/plain": [
       "{'kernel': 'rbf',\n",
       " 'gamma': 'auto',\n",
       " 'epsilon': 0.011090909090909092,\n",
       " 'degree': 1,\n",
       " 'coef0': 0.28354545454545454,\n",
       " 'C': 22.223000000000003}"
      ]
     },
     "execution_count": 7,
     "metadata": {},
     "output_type": "execute_result"
    }
   ],
   "source": [
    "#select creep length as label (training target)\n",
    "output_data = AllData['clength']\n",
    "''' Preprocessing data '''\n",
    "rndstate = 40\n",
    "'Splitting into training and test set'\n",
    "X_train, X_test, y_train, y_test = train_test_split(input_data, output_data, random_state=rndstate)\n",
    "\n",
    "# Use the random grid to search for best hyperparameters\n",
    "# First create the base model to tune\n",
    "svr = SVR()\n",
    "# Random search of parameters, using 3 fold cross validation, \n",
    "# search across 100 different combinations, and use all available cores\n",
    "svr_random = RandomizedSearchCV(estimator = svr, param_distributions = random_grid,\n",
    "                               n_iter = 82, cv = 10, verbose=2, random_state=42, n_jobs = -1)\n",
    "# Fit the random search model\n",
    "svr_random.fit(X_train, y_train)\n",
    "hyper = svr_random.best_params_\n",
    "hyper"
   ]
  },
  {
   "cell_type": "code",
   "execution_count": 32,
   "metadata": {},
   "outputs": [
    {
     "name": "stdout",
     "output_type": "stream",
     "text": [
      "--Cross-validation--\n",
      "\n",
      "Cross-validation scores [%]: [95.68097562 95.28839599 96.03288315]\n",
      "\n",
      "Average cross-validation score: 95.66741825360181 %\n",
      "\n",
      "\n",
      "training model\n",
      "\n",
      "Training set score: 99.06059270890086 %\n",
      "Test set score: 93.19282801655852 %\n"
     ]
    },
    {
     "data": {
      "image/png": "[encoded data removed]",
      "text/plain": [
       "<Figure size 432x288 with 1 Axes>"
      ]
     },
     "metadata": {
      "needs_background": "light"
     },
     "output_type": "display_data"
    },
    {
     "name": "stdout",
     "output_type": "stream",
     "text": [
      "Cross-validation scores [%]: [95.61046056 95.40729803 95.66368122 96.20856329 94.82861895]\n",
      "\n",
      "Average cross-validation score: 95.54372440819111 %\n",
      "\n",
      "\n",
      "Training set score: 99.06059270890086 %\n",
      "Test set score: 93.19282801655852 %\n",
      "Train data:\n",
      "RMSE =  0.031011116848291734\n",
      "MAE =  0.018248490131594016\n",
      "R2 =  0.9906059270890086\n",
      "Test data:\n",
      "RMSE =  0.0811914972230767\n",
      "MAE =  0.044912596932184315\n",
      "R2 =  0.9319282801655853\n"
     ]
    }
   ],
   "source": [
    "svr = SVR(C=hyper['C'] ,coef0=hyper['coef0'], degree=hyper['degree'], epsilon=hyper['epsilon'],\n",
    "          gamma=hyper['gamma'], kernel=hyper['kernel'])\n",
    "\n",
    "\"\"\" Cross-Validation \"\"\"\n",
    "print('--Cross-validation--\\n')\n",
    "kfold=KFold(n_splits=3, shuffle=True, random_state=rndstate)\n",
    "scores = cross_val_score(svr,X_train,y_train,cv=kfold)*100.0\n",
    "print('Cross-validation scores [%]: {}\\n'.format(scores))\n",
    "print('Average cross-validation score: {} %\\n\\n'.format(scores.mean()))\n",
    "\n",
    "print('training model\\n')\n",
    "'fit training data'\n",
    "svr.fit(X_train, y_train)\n",
    "'compute traning and test scores and print them to terminal'\n",
    "train_score = 100*svr.score(X_train, y_train)\n",
    "test_score = 100*svr.score(X_test, y_test)\n",
    "print(\"Training set score: {} %\".format(train_score))\n",
    "print(\"Test set score: {} %\".format(test_score))\n",
    "\n",
    "# store trained SVR for creep length\n",
    "svr_cl = svr\n",
    "\n",
    "#graphical output\n",
    "y_predict_test=svr.predict(X_test)\n",
    "y_predict_train=svr.predict(X_train)\n",
    "y_predict = svr.predict(input_data)\n",
    "y_max = max(y_predict_test)\n",
    "y_min = min(y_predict_test)\n",
    "plt.plot([y_min,y_max],[y_min,y_max])\n",
    "plt.scatter(y_train,y_predict_train,c='orange',label='train')\n",
    "plt.scatter(y_test,y_predict_test,c='b',label='test')\n",
    "plt.legend()\n",
    "plt.xlabel('reference creep length (a.u.)')\n",
    "plt.ylabel('predicted creep length (a.u.)')\n",
    "plt.show()\n",
    "\n",
    "#calculate statistical data for quality of training\n",
    "my_scorer_cv(svr, X_train=X_train, y_train=y_train, exponentiate=False)   \n",
    "my_scorer_test(svr, X_train=X_train,X_test=X_test, y_train=y_train, y_test=y_test, exponentiate=False)\n",
    "my_scorer(svr)"
   ]
  },
  {
   "cell_type": "markdown",
   "metadata": {},
   "source": [
    "## 2. Study influence of \"wrong\" material parameter in feature vector"
   ]
  },
  {
   "cell_type": "code",
   "execution_count": 31,
   "metadata": {},
   "outputs": [
    {
     "name": "stdout",
     "output_type": "stream",
     "text": [
      "--Cross-validation--\n",
      "\n",
      "Cross-validation scores [%]: [95.68097562 95.28839599 96.03288315]\n",
      "\n",
      "Average cross-validation score: 95.66741825360181 %\n",
      "\n",
      "\n",
      "training model\n",
      "\n",
      "Training set score: 99.06059270890086 %\n",
      "Test set score: 93.19282801655852 %\n"
     ]
    },
    {
     "data": {
      "image/png": "[encoded data removed]",
      "text/plain": [
       "<Figure size 432x288 with 1 Axes>"
      ]
     },
     "metadata": {
      "needs_background": "light"
     },
     "output_type": "display_data"
    },
    {
     "name": "stdout",
     "output_type": "stream",
     "text": [
      "Cross-validation scores [%]: [95.61046056 95.40729803 95.66368122 96.20856329 94.82861895]\n",
      "\n",
      "Average cross-validation score: 95.54372440819111 %\n",
      "\n",
      "\n",
      "Training set score: 99.06059270890086 %\n",
      "Test set score: 93.19282801655852 %\n",
      "Train data:\n",
      "RMSE =  0.031011116848291734\n",
      "MAE =  0.018248490131594016\n",
      "R2 =  0.9906059270890086\n",
      "Test data:\n",
      "RMSE =  0.0811914972230767\n",
      "MAE =  0.044912596932184315\n",
      "R2 =  0.9319282801655853\n"
     ]
    }
   ],
   "source": [
    "# Exchange \"A0\" against \"A\" in feature vector\n",
    "InNames_w = ['n','m','A','C1', 'g1', 'C2','Q','b']\n",
    "input_data_w = AllData[InNames]\n",
    "\n",
    "''' Preprocessing data '''\n",
    "rndstate = 40\n",
    "'Splitting into training and test set'\n",
    "X_train, X_test, y_train, y_test = train_test_split(input_data_w, output_data, random_state=rndstate)\n",
    "\n",
    "#train with optimized hyperparameters\n",
    "svr = SVR(C=hyper['C'] ,coef0=hyper['coef0'], degree=hyper['degree'], epsilon=hyper['epsilon'],\n",
    "          gamma=hyper['gamma'], kernel=hyper['kernel'])\n",
    "\n",
    "\"\"\" Cross-Validation \"\"\"\n",
    "print('--Cross-validation--\\n')\n",
    "kfold=KFold(n_splits=3, shuffle=True, random_state=rndstate)\n",
    "scores = cross_val_score(svr,X_train,y_train,cv=kfold)*100.0\n",
    "print('Cross-validation scores [%]: {}\\n'.format(scores))\n",
    "print('Average cross-validation score: {} %\\n\\n'.format(scores.mean()))\n",
    "\n",
    "print('training model\\n')\n",
    "'fit training data'\n",
    "svr.fit(X_train, y_train)\n",
    "'compute traning and test scores and print them to terminal'\n",
    "train_score = 100*svr.score(X_train, y_train)\n",
    "test_score = 100*svr.score(X_test, y_test)\n",
    "print(\"Training set score: {} %\".format(train_score))\n",
    "print(\"Test set score: {} %\".format(test_score))\n",
    "\n",
    "#graphical output\n",
    "y_predict_test=svr.predict(X_test)\n",
    "y_predict_train=svr.predict(X_train)\n",
    "y_predict = svr.predict(input_data)\n",
    "y_max = max(y_predict_test)\n",
    "y_min = min(y_predict_test)\n",
    "plt.plot([y_min,y_max],[y_min,y_max])\n",
    "plt.scatter(y_train,y_predict_train,c='orange',label='train')\n",
    "plt.scatter(y_test,y_predict_test,c='b',label='test')\n",
    "plt.legend()\n",
    "plt.xlabel('reference creep length (a.u.)')\n",
    "plt.ylabel('predicted creep length (a.u.)')\n",
    "plt.show()\n",
    "\n",
    "#calculate statistical data for quality of training\n",
    "my_scorer_cv(svr, X_train=X_train, y_train=y_train, exponentiate=False)   \n",
    "my_scorer_test(svr, X_train=X_train,X_test=X_test, y_train=y_train, y_test=y_test, exponentiate=False)\n",
    "my_scorer(svr)"
   ]
  },
  {
   "cell_type": "markdown",
   "metadata": {},
   "source": [
    "# Apply surrogate model for plotting of functional dependencies"
   ]
  },
  {
   "cell_type": "code",
   "execution_count": 30,
   "metadata": {},
   "outputs": [
    {
     "data": {
      "image/png": "[encoded data removed]",
      "text/plain": [
       "<Figure size 432x288 with 1 Axes>"
      ]
     },
     "metadata": {
      "needs_background": "light"
     },
     "output_type": "display_data"
    }
   ],
   "source": [
    "#plot creep length as function of A0\n",
    "x1 = np.zeros((20,8))  # set all parameters to the average values in scaled parameter space\n",
    "x1[:,2] = np.linspace(-1,1,20)  # set column for A0 to full variation covered by data\n",
    "y1 = svr_cl.predict(x1)\n",
    "x2 = np.zeros((20,8))  # set all parameters to the average values in scaled parameter space\n",
    "x2[:,0] = np.linspace(-1,1,20)  # set column for A0 to full variation covered by data\n",
    "y2 = svr_cl.predict(x2)\n",
    "plt.plot(x1[:,2],y1,'-b',label='A0 variation')\n",
    "plt.plot(x2[:,0],y2,'-r',label='n variation')\n",
    "plt.ylabel('predicted creep length (a.u.)')\n",
    "plt.xlabel('creep parameters A0, n (a.u.)')\n",
    "plt.legend()\n",
    "plt.show()"
   ]
  },
  {
   "cell_type": "code",
   "execution_count": 29,
   "metadata": {},
   "outputs": [
    {
     "data": {
      "image/png": "[encoded data removed]",
      "text/plain": [
       "<Figure size 432x288 with 1 Axes>"
      ]
     },
     "metadata": {
      "needs_background": "light"
     },
     "output_type": "display_data"
    }
   ],
   "source": [
    "#plot hysterisis width as function of C1 and C2\n",
    "x1 = np.zeros((20,8))  # set all parameters to the average values in scaled parameter space\n",
    "x1[:,3] = np.linspace(-1,1,20)  # set column for A0 to full variation covered by data\n",
    "y1 = svr_cl.predict(x1)\n",
    "x2 = np.zeros((20,8))  # set all parameters to the average values in scaled parameter space\n",
    "x2[:,5] = np.linspace(-1,1,20)  # set column for A0 to full variation covered by data\n",
    "y2 = svr_cl.predict(x2)\n",
    "plt.plot(x1[:,3],y1,'-r',label='C1 variation')\n",
    "plt.plot(x2[:,5],y2,'-b',label='C2 variation')\n",
    "plt.ylabel('predicted hysteresis width (a.u.)')\n",
    "plt.xlabel('hardening parameters C1, C2 (a.u.)')\n",
    "plt.legend()\n",
    "plt.show()"
   ]
  }
 ],
 "metadata": {
  "kernelspec": {
   "display_name": "Python 3",
   "language": "python",
   "name": "python3"
  },
  "language_info": {
   "codemirror_mode": {
    "name": "ipython",
    "version": 3
   },
   "file_extension": ".py",
   "mimetype": "text/x-python",
   "name": "python",
   "nbconvert_exporter": "python",
   "pygments_lexer": "ipython3",
   "version": "3.9.5"
  }
 },
 "nbformat": 4,
 "nbformat_minor": 4
}
