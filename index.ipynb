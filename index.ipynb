{
 "cells": [
  {
   "cell_type": "markdown",
   "id": "4efa3067-8eee-441a-b9b8-2760786b26df",
   "metadata": {},
   "source": [
    "# Lecture: Applications of Machine Learning in Mechanics of Materials\n",
    "## Directory of Jupyter notebooks for numerical examples\n",
    "\n",
    "This course provides an introduction into the mechanical properties of composite materials, which are described by three methods: (i) theoretical homogenization methods, (ii) numerical simulations based on the finite element method, and (iii) trained machine learning methods. The aim is to provide insight into the nature of fiber-reinforced composite materials and their properties and to introduce Finite Element Analysis (FEA) as a numerical method for studying mechanical behavior of heterogeneous materials. The pyLabFEA package\n",
    "introduces a simple version of FEA for solid mechanics and elastic-plastic materials, which is fully written in Python. See the [online documentation](https://ahartmaier.github.io/pyLabFEA) of the pyLabFEA package for detailed information.\n",
    "\n",
    "  - Author: Alexander Hartmaier\n",
    "  - Organization: ICAMS, Ruhr University Bochum, Germany\n",
    "  - Contact: <alexander.hartmaier@rub.de>\n",
    "  - Date: July 2025\n",
    "\n",
    "This work is licensed under a Creative Commons Attribution-NonCommercial-ShareAlike 4.0 International License [(CC-BY-NC-SA)](http://creativecommons.org/licenses/by-nc-sa/4.0/)\n",
    "<a rel=\"license\" href=\"http://creativecommons.org/licenses/by-nc-sa/4.0/\">\n",
    "   <img alt=\"Creative Commons License\" style=\"border-width:0;max-heigt:9px;height:100%;\" src=\"https://i.creativecommons.org/l/by-nc-sa/4.0/88x31.png\" /></a>\n",
    "\n",
    "The pyLabFEA package comes with ABSOLUTELY NO WARRANTY. This is free software, and you are welcome to redistribute it under the conditions of the GNU General Public License [(GPLv3)](http://www.fsf.org/licensing/licenses/gpl.html)\n",
    "\n",
    "## 1. Finite Element Analysis of Composite Materials \n",
    "\n",
    "  - [Finite Element Analysis](notebooks/fea.ipynb)  \n",
    "    The basic steps of using pyLabFEA for elastic materials are demonstrated. The properties of composites made from different elastic materials are analyzed, and the numerical solution is compared with the expected values from mechanical models.\n",
    "\n",
    "## 2. Data Generation for Customized Composites \n",
    "\n",
    "  - [Composites](notebooks/composite.ipynb)  \n",
    "    In this tutorial composites with arbitrary user-defined arrangments of the filler material are created and their anisotropic elastic properties are assessed by FEA.\n",
    "\n",
    "## 3. Machine Learning Models\n",
    "\n",
    "  - [Machine Learning](notebooks/machine_learning.ipynb)  \n",
    "    In this tutorial composites with arbitrary user-defined arrangments of the filler material are created and their anisotropic elastic properties are assessed by FEA.\n",
    "\n",
    "## 4. Miscellaneous\n",
    "\n",
    "  - [Regression](notebooks/ml_tutorial_regression.ipynb)  \n",
    "    Examples of regression with machine learning\n",
    "  - [Classification](notebooks/ml_tutorial_classification.ipynb)  \n",
    "    Train classification models, including application for classification of elastic vs. plastic material behavior\n",
    "  - [Surrogate models](notebooks/Surrogate-Indentation-SVR.ipynb)\n",
    "    Example for a surrogate model  \n",
    "    "
   ]
  },
  {
   "cell_type": "code",
   "execution_count": null,
   "id": "221d550c-e087-4850-8be6-f1d8b5cbd52f",
   "metadata": {},
   "outputs": [],
   "source": []
  }
 ],
 "metadata": {
  "kernelspec": {
   "display_name": "Python 3 (ipykernel)",
   "language": "python",
   "name": "python3"
  },
  "language_info": {
   "codemirror_mode": {
    "name": "ipython",
    "version": 3
   },
   "file_extension": ".py",
   "mimetype": "text/x-python",
   "name": "python",
   "nbconvert_exporter": "python",
   "pygments_lexer": "ipython3",
   "version": "3.13.5"
  }
 },
 "nbformat": 4,
 "nbformat_minor": 5
}
